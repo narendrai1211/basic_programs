{
  "nbformat": 4,
  "nbformat_minor": 0,
  "metadata": {
    "colab": {
      "name": "Map_reduce_concept.ipynb",
      "provenance": [],
      "authorship_tag": "ABX9TyPmJ+Y+5WVWkIeNtN574rFt",
      "include_colab_link": true
    },
    "kernelspec": {
      "name": "python3",
      "display_name": "Python 3"
    },
    "language_info": {
      "name": "python"
    }
  },
  "cells": [
    {
      "cell_type": "markdown",
      "metadata": {
        "id": "view-in-github",
        "colab_type": "text"
      },
      "source": [
        "<a href=\"https://colab.research.google.com/github/narendrai1211/basic_programs/blob/master/Map_reduce_concept.ipynb\" target=\"_parent\"><img src=\"https://colab.research.google.com/assets/colab-badge.svg\" alt=\"Open In Colab\"/></a>"
      ]
    },
    {
      "cell_type": "code",
      "execution_count": 1,
      "metadata": {
        "id": "7r_17bQ1GpGp"
      },
      "outputs": [],
      "source": [
        "import pandas as pd"
      ]
    },
    {
      "cell_type": "code",
      "source": [
        "def preprocess(file_path):\n",
        "  with open(file_path, 'r') as f:\n",
        "    list_data = f.readlines()\n",
        "    final_data = [i.replace('\\n', ' ').lower() for i in list_data]\n",
        "    final_data.remove(' ')\n",
        "    return final_data\n",
        "\n",
        "\n",
        "def map_phase(final_data):\n",
        "  list_wc = []\n",
        "  df = pd.DataFrame()\n",
        "  for i in final_data:\n",
        "    for each_word in i.replace(',', '').replace('.', '').replace('!', '').replace(':', '').replace('\"', '').replace('**', '').replace('--', '').split():\n",
        "      stripped_word = each_word.strip()\n",
        "      list_wc.append(stripped_word)\n",
        "  \n",
        "  df['word']= list_wc\n",
        "  df['count'] = 1\n",
        "  # print(df)\n",
        "  df = df.groupby('word')['count'].apply(list)\n",
        "  return df\n",
        "\n",
        "def reducer_phase(mapped_data):\n",
        "  final_data = mapped_data.apply(len).to_frame().sort_values(by='count', ascending=False)\n",
        "  final_data.to_csv('/content/reducer_output.csv')"
      ],
      "metadata": {
        "id": "z6Yq54N2G6yo"
      },
      "execution_count": 2,
      "outputs": []
    },
    {
      "cell_type": "code",
      "source": [
        "if __name__ == '__main__':\n",
        "  final_preprocessed_data = preprocess('/content/Martin_luther_king_jr_speech.txt')\n",
        "  mapped_output = map_phase(final_preprocessed_data)\n",
        "  reducer_phase(mapped_output)"
      ],
      "metadata": {
        "id": "YRPcJZejQ4as"
      },
      "execution_count": 3,
      "outputs": []
    }
  ]
}